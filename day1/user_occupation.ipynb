{
  "nbformat": 4,
  "nbformat_minor": 0,
  "metadata": {
    "colab": {
      "name": "user-occupation.ipynb",
      "provenance": []
    },
    "kernelspec": {
      "name": "python3",
      "display_name": "Python 3"
    },
    "language_info": {
      "name": "python"
    }
  },
  "cells": [
    {
      "cell_type": "markdown",
      "source": [
        "## Working with user's occupational data"
      ],
      "metadata": {
        "id": "uETnyow__Heb"
      }
    },
    {
      "cell_type": "markdown",
      "source": [
        "### Import pandas and load the input file"
      ],
      "metadata": {
        "id": "ISopuiQV_MeL"
      }
    },
    {
      "cell_type": "code",
      "execution_count": 1,
      "metadata": {
        "id": "gsw07DXP_ESG"
      },
      "outputs": [],
      "source": [
        "import pandas as pd"
      ]
    },
    {
      "cell_type": "code",
      "source": [
        "filepath = 'https://raw.githubusercontent.com/justmarkham/DAT8/master/data/u.user'\n",
        "users = pd.read_table(filepath, sep='|', index_col='user_id')"
      ],
      "metadata": {
        "id": "2o_TvJqp_SuD"
      },
      "execution_count": 2,
      "outputs": []
    },
    {
      "cell_type": "code",
      "source": [
        "users.head(25)"
      ],
      "metadata": {
        "id": "7oVb_dfd_odh"
      },
      "execution_count": null,
      "outputs": []
    },
    {
      "cell_type": "code",
      "source": [
        "users.shape"
      ],
      "metadata": {
        "colab": {
          "base_uri": "https://localhost:8080/"
        },
        "id": "K4U73G9U_pzL",
        "outputId": "93d7c972-b843-4970-cc54-cf51d1784da4"
      },
      "execution_count": 4,
      "outputs": [
        {
          "output_type": "execute_result",
          "data": {
            "text/plain": [
              "(943, 4)"
            ]
          },
          "metadata": {},
          "execution_count": 4
        }
      ]
    },
    {
      "cell_type": "code",
      "source": [
        "users.columns"
      ],
      "metadata": {
        "colab": {
          "base_uri": "https://localhost:8080/"
        },
        "id": "pATn3Ze0_zfC",
        "outputId": "ff66036a-e269-4aa7-9d89-105c6c7d0d60"
      },
      "execution_count": 5,
      "outputs": [
        {
          "output_type": "execute_result",
          "data": {
            "text/plain": [
              "Index(['age', 'gender', 'occupation', 'zip_code'], dtype='object')"
            ]
          },
          "metadata": {},
          "execution_count": 5
        }
      ]
    },
    {
      "cell_type": "code",
      "source": [
        "users.dtypes"
      ],
      "metadata": {
        "colab": {
          "base_uri": "https://localhost:8080/"
        },
        "id": "ekbukF72_601",
        "outputId": "94ee2fc4-82c9-428f-f7fb-343b91009d47"
      },
      "execution_count": 13,
      "outputs": [
        {
          "output_type": "execute_result",
          "data": {
            "text/plain": [
              "age            int64\n",
              "gender        object\n",
              "occupation    object\n",
              "zip_code      object\n",
              "dtype: object"
            ]
          },
          "metadata": {},
          "execution_count": 13
        }
      ]
    },
    {
      "cell_type": "code",
      "source": [
        "users.occupation"
      ],
      "metadata": {
        "id": "G6-v7DY_AB2S"
      },
      "execution_count": null,
      "outputs": []
    },
    {
      "cell_type": "markdown",
      "source": [
        "### How many unique occupations exist?"
      ],
      "metadata": {
        "id": "M6nilsp_AQ3t"
      }
    },
    {
      "cell_type": "code",
      "source": [
        "users.occupation.nunique()\n"
      ],
      "metadata": {
        "colab": {
          "base_uri": "https://localhost:8080/"
        },
        "id": "DyPJVlWNAGbe",
        "outputId": "36c7de2f-f312-4cba-8c7e-492575405a84"
      },
      "execution_count": 11,
      "outputs": [
        {
          "output_type": "execute_result",
          "data": {
            "text/plain": [
              "21"
            ]
          },
          "metadata": {},
          "execution_count": 11
        }
      ]
    },
    {
      "cell_type": "markdown",
      "source": [
        "### Which are the unique occupations?"
      ],
      "metadata": {
        "id": "UF3FwWbmAjLL"
      }
    },
    {
      "cell_type": "code",
      "source": [
        "users.occupation.unique()"
      ],
      "metadata": {
        "id": "0THTArD6AXad"
      },
      "execution_count": null,
      "outputs": []
    },
    {
      "cell_type": "markdown",
      "source": [
        "### Describe the data in the dataset"
      ],
      "metadata": {
        "id": "lkWwiaUYA5ZI"
      }
    },
    {
      "cell_type": "code",
      "source": [
        "users.describe()"
      ],
      "metadata": {
        "id": "xOY0r8p7Afkg"
      },
      "execution_count": null,
      "outputs": []
    },
    {
      "cell_type": "markdown",
      "source": [
        "### Describe all possible fields"
      ],
      "metadata": {
        "id": "xjPR_jffBJFw"
      }
    },
    {
      "cell_type": "code",
      "source": [
        "users.describe(include = 'all')"
      ],
      "metadata": {
        "id": "QPqpcbjhA_uw"
      },
      "execution_count": null,
      "outputs": []
    },
    {
      "cell_type": "markdown",
      "source": [
        "### Describe a specific columns"
      ],
      "metadata": {
        "id": "-XXn4OJKBiou"
      }
    },
    {
      "cell_type": "code",
      "source": [
        "users.occupation.describe()"
      ],
      "metadata": {
        "colab": {
          "base_uri": "https://localhost:8080/"
        },
        "id": "-3zMfoRKBRD7",
        "outputId": "4d20c8d0-0543-4b22-fc59-5ea2ab2781b2"
      },
      "execution_count": 16,
      "outputs": [
        {
          "output_type": "execute_result",
          "data": {
            "text/plain": [
              "count         943\n",
              "unique         21\n",
              "top       student\n",
              "freq          196\n",
              "Name: occupation, dtype: object"
            ]
          },
          "metadata": {},
          "execution_count": 16
        }
      ]
    },
    {
      "cell_type": "code",
      "source": [
        "users.age.describe()"
      ],
      "metadata": {
        "colab": {
          "base_uri": "https://localhost:8080/"
        },
        "id": "PmZIjpUWBpS-",
        "outputId": "b8d872a8-cd4c-4b2a-8781-8060c45f84be"
      },
      "execution_count": 17,
      "outputs": [
        {
          "output_type": "execute_result",
          "data": {
            "text/plain": [
              "count    943.000000\n",
              "mean      34.051962\n",
              "std       12.192740\n",
              "min        7.000000\n",
              "25%       25.000000\n",
              "50%       31.000000\n",
              "75%       43.000000\n",
              "max       73.000000\n",
              "Name: age, dtype: float64"
            ]
          },
          "metadata": {},
          "execution_count": 17
        }
      ]
    },
    {
      "cell_type": "markdown",
      "source": [
        "### What is the mean age of users?"
      ],
      "metadata": {
        "id": "08Dkc4aOBs3B"
      }
    },
    {
      "cell_type": "code",
      "source": [
        "round(users.age.mean(), 2)"
      ],
      "metadata": {
        "colab": {
          "base_uri": "https://localhost:8080/"
        },
        "id": "pMGO0hbMBrJK",
        "outputId": "bbf4b4fe-d7d7-4468-d2fe-cfbb935e9b98"
      },
      "execution_count": 20,
      "outputs": [
        {
          "output_type": "execute_result",
          "data": {
            "text/plain": [
              "34.05"
            ]
          },
          "metadata": {},
          "execution_count": 20
        }
      ]
    },
    {
      "cell_type": "markdown",
      "source": [
        "### Describe multiple selected columns"
      ],
      "metadata": {
        "id": "gDWjiCq6C7BA"
      }
    },
    {
      "cell_type": "code",
      "source": [
        "users[['occupation', 'zip_code']].describe()"
      ],
      "metadata": {
        "id": "n7h570TACM1O"
      },
      "execution_count": null,
      "outputs": []
    },
    {
      "cell_type": "code",
      "source": [
        "users[['occupation', 'zip_code']]"
      ],
      "metadata": {
        "id": "haaY2EEZCt5r"
      },
      "execution_count": null,
      "outputs": []
    },
    {
      "cell_type": "code",
      "source": [
        ""
      ],
      "metadata": {
        "id": "fJrhOWC3C1o-"
      },
      "execution_count": null,
      "outputs": []
    }
  ]
}